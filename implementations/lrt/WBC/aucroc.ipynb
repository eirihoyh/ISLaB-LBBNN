{
 "cells": [
  {
   "cell_type": "code",
   "execution_count": 2,
   "id": "18309afb-a0ee-4dea-a6c8-9da6715d1513",
   "metadata": {},
   "outputs": [
    {
     "name": "stdout",
     "output_type": "stream",
     "text": [
      "roc_auc_median:\n",
      "0.998 (0.995, 0.999)\n",
      "\n",
      "roc_auc_full:\n",
      "0.998 (0.995, 0.999)\n",
      "\n",
      "nr_active_weights:\n",
      "4.000 (3.000, 6.000)\n",
      "\n"
     ]
    }
   ],
   "source": [
    "import pandas as pd\n",
    "import numpy as np\n",
    "\n",
    "lrt_res = pd.read_csv(\"results/lrt_networks_roc_auc_results.csv\")\n",
    "\n",
    "cols = [\"roc_auc_median\", \"roc_auc_full\", \"nr_active_weights\"]\n",
    "\n",
    "for col in cols:\n",
    "    c = lrt_res[col]\n",
    "    print(f\"{col}:\\n{np.median(c):.3f} ({np.min(c):.3f}, {np.max(c):.3f})\\n\")"
   ]
  },
  {
   "cell_type": "code",
   "execution_count": null,
   "id": "1d25c703-07ac-430b-8361-43ed33392453",
   "metadata": {},
   "outputs": [],
   "source": []
  }
 ],
 "metadata": {
  "kernelspec": {
   "display_name": "Python 3 (ipykernel)",
   "language": "python",
   "name": "python3"
  },
  "language_info": {
   "codemirror_mode": {
    "name": "ipython",
    "version": 3
   },
   "file_extension": ".py",
   "mimetype": "text/x-python",
   "name": "python",
   "nbconvert_exporter": "python",
   "pygments_lexer": "ipython3",
   "version": "3.11.2"
  }
 },
 "nbformat": 4,
 "nbformat_minor": 5
}
