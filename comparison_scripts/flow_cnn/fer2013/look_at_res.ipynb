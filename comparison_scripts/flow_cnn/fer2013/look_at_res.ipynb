{
 "cells": [
  {
   "cell_type": "code",
   "execution_count": 6,
   "id": "254e5edb-583a-475c-b931-2b5402bd4c9c",
   "metadata": {},
   "outputs": [
    {
     "name": "stdout",
     "output_type": "stream",
     "text": [
      "accuracy_full:\n",
      "76.837 (75.091, 77.384)\n",
      "\n",
      "accuracy_median:\n",
      "75.091 (67.796, 75.664)\n",
      "\n",
      "nll_full:\n",
      "0.667 (0.644, 0.895)\n",
      "\n",
      "nll_median:\n",
      "0.688 (0.625, 0.813)\n",
      "\n",
      "ece_full:\n",
      "0.060 (0.028, 0.080)\n",
      "\n",
      "ece_median:\n",
      "0.046 (0.030, 0.074)\n",
      "\n"
     ]
    }
   ],
   "source": [
    "import pandas as pd\n",
    "import numpy as np\n",
    "\n",
    "flow_res = pd.read_csv(\"results/flow_networks_fer2013_results.csv\")\n",
    "\n",
    "cols = [\"accuracy_full\", \"accuracy_median\", \"nll_full\", \"nll_median\", \"ece_full\", \"ece_median\"]\n",
    "\n",
    "for col in cols:\n",
    "    c = flow_res[col]\n",
    "    print(f\"{col}:\\n{np.median(c):.3f} ({np.min(c):.3f}, {np.max(c):.3f})\\n\")"
   ]
  }
 ],
 "metadata": {
  "kernelspec": {
   "display_name": "Python 3 (ipykernel)",
   "language": "python",
   "name": "python3"
  },
  "language_info": {
   "codemirror_mode": {
    "name": "ipython",
    "version": 3
   },
   "file_extension": ".py",
   "mimetype": "text/x-python",
   "name": "python",
   "nbconvert_exporter": "python",
   "pygments_lexer": "ipython3",
   "version": "3.11.2"
  }
 },
 "nbformat": 4,
 "nbformat_minor": 5
}
