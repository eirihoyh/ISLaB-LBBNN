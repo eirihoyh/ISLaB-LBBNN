{
 "cells": [
  {
   "cell_type": "code",
   "execution_count": 3,
   "id": "254e5edb-583a-475c-b931-2b5402bd4c9c",
   "metadata": {},
   "outputs": [
    {
     "name": "stdout",
     "output_type": "stream",
     "text": [
      "accuracy_full:\n",
      "98.290 (98.210, 98.400)\n",
      "\n",
      "accuracy_median:\n",
      "98.250 (98.150, 98.370)\n",
      "\n",
      "nll_full:\n",
      "0.084 (0.072, 0.094)\n",
      "\n",
      "nll_median:\n",
      "0.073 (0.064, 0.083)\n",
      "\n",
      "ece_full:\n",
      "0.009 (0.006, 0.013)\n",
      "\n",
      "ece_median:\n",
      "0.003 (0.003, 0.006)\n",
      "\n"
     ]
    }
   ],
   "source": [
    "import pandas as pd\n",
    "import numpy as np\n",
    "\n",
    "flow_res = pd.read_csv(\"results/flow_networks_mnist_results.csv\")\n",
    "\n",
    "cols = [\"accuracy_full\", \"accuracy_median\", \"nll_full\", \"nll_median\", \"ece_full\", \"ece_median\"]\n",
    "\n",
    "for col in cols:\n",
    "    c = flow_res[col]\n",
    "    print(f\"{col}:\\n{np.median(c):.3f} ({np.min(c):.3f}, {np.max(c):.3f})\\n\")"
   ]
  }
 ],
 "metadata": {
  "kernelspec": {
   "display_name": "Python 3 (ipykernel)",
   "language": "python",
   "name": "python3"
  },
  "language_info": {
   "codemirror_mode": {
    "name": "ipython",
    "version": 3
   },
   "file_extension": ".py",
   "mimetype": "text/x-python",
   "name": "python",
   "nbconvert_exporter": "python",
   "pygments_lexer": "ipython3",
   "version": "3.11.2"
  }
 },
 "nbformat": 4,
 "nbformat_minor": 5
}
