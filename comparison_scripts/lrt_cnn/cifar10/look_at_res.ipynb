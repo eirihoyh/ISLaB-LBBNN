{
 "cells": [
  {
   "cell_type": "code",
   "execution_count": 3,
   "id": "4057503a-98c3-42de-84c0-006afa968910",
   "metadata": {},
   "outputs": [
    {
     "name": "stdout",
     "output_type": "stream",
     "text": [
      "accuracy_full:\n",
      "47.780 (45.020, 48.650)\n",
      "\n",
      "accuracy_median:\n",
      "44.895 (38.880, 47.460)\n",
      "\n",
      "loss_full:\n",
      "15880.965 (15481.413, 16431.180)\n",
      "\n",
      "loss_median:\n",
      "16757.247 (16384.168, 17986.430)\n",
      "\n",
      "ece_full:\n",
      "0.025 (0.021, 0.032)\n",
      "\n",
      "ece_median:\n",
      "0.022 (0.013, 0.078)\n",
      "\n"
     ]
    }
   ],
   "source": [
    "import pandas as pd\n",
    "import numpy as np\n",
    "\n",
    "lrt_res = pd.read_csv(\"results/lrt_networks_cifar10_lr_0.001_results.csv\")\n",
    "\n",
    "cols = [\"accuracy_full\", \"accuracy_median\", \"loss_full\", \"loss_median\", \"ece_full\", \"ece_median\"]\n",
    "\n",
    "for col in cols:\n",
    "    c = lrt_res[col]\n",
    "    print(f\"{col}:\\n{np.median(c):.3f} ({np.min(c):.3f}, {np.max(c):.3f})\\n\")"
   ]
  }
 ],
 "metadata": {
  "kernelspec": {
   "display_name": "Python 3 (ipykernel)",
   "language": "python",
   "name": "python3"
  },
  "language_info": {
   "codemirror_mode": {
    "name": "ipython",
    "version": 3
   },
   "file_extension": ".py",
   "mimetype": "text/x-python",
   "name": "python",
   "nbconvert_exporter": "python",
   "pygments_lexer": "ipython3",
   "version": "3.11.2"
  }
 },
 "nbformat": 4,
 "nbformat_minor": 5
}
