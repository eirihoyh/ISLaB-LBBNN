{
 "cells": [
  {
   "cell_type": "code",
   "execution_count": 3,
   "id": "254e5edb-583a-475c-b931-2b5402bd4c9c",
   "metadata": {},
   "outputs": [
    {
     "name": "stdout",
     "output_type": "stream",
     "text": [
      "accuracy_full:\n",
      "98.420 (97.570, 98.680)\n",
      "\n",
      "accuracy_median:\n",
      "98.305 (97.430, 98.650)\n",
      "\n",
      "nll_full:\n",
      "0.072 (0.064, 0.098)\n",
      "\n",
      "nll_median:\n",
      "0.066 (0.058, 0.093)\n",
      "\n",
      "ece_full:\n",
      "0.006 (0.005, 0.010)\n",
      "\n",
      "ece_median:\n",
      "0.003 (0.002, 0.004)\n",
      "\n"
     ]
    }
   ],
   "source": [
    "import pandas as pd\n",
    "import numpy as np\n",
    "\n",
    "lrt_res = pd.read_csv(\"results/lrt_networks_mnist_lr_0.005_results.csv\")\n",
    "\n",
    "cols = [\"accuracy_full\", \"accuracy_median\", \"nll_full\", \"nll_median\", \"ece_full\", \"ece_median\"]\n",
    "\n",
    "for col in cols:\n",
    "    c = lrt_res[col]\n",
    "    print(f\"{col}:\\n{np.median(c):.3f} ({np.min(c):.3f}, {np.max(c):.3f})\\n\")"
   ]
  }
 ],
 "metadata": {
  "kernelspec": {
   "display_name": "Python 3 (ipykernel)",
   "language": "python",
   "name": "python3"
  },
  "language_info": {
   "codemirror_mode": {
    "name": "ipython",
    "version": 3
   },
   "file_extension": ".py",
   "mimetype": "text/x-python",
   "name": "python",
   "nbconvert_exporter": "python",
   "pygments_lexer": "ipython3",
   "version": "3.11.2"
  }
 },
 "nbformat": 4,
 "nbformat_minor": 5
}
