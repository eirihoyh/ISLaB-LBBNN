{
 "cells": [
  {
   "cell_type": "code",
   "execution_count": 3,
   "id": "254e5edb-583a-475c-b931-2b5402bd4c9c",
   "metadata": {},
   "outputs": [
    {
     "name": "stdout",
     "output_type": "stream",
     "text": [
      "accuracy_full:\n",
      "60.969 (58.885, 62.897)\n",
      "\n",
      "accuracy_median:\n",
      "56.019 (36.686, 61.282)\n",
      "\n",
      "nll_full:\n",
      "0.891 (0.873, 0.911)\n",
      "\n",
      "nll_median:\n",
      "0.948 (0.881, 1.310)\n",
      "\n",
      "ece_full:\n",
      "0.033 (0.020, 0.042)\n",
      "\n",
      "ece_median:\n",
      "0.059 (0.015, 0.370)\n",
      "\n"
     ]
    }
   ],
   "source": [
    "import pandas as pd\n",
    "import numpy as np\n",
    "\n",
    "lrt_res = pd.read_csv(\"results/lrt_networks_fer2013_lr_0.005_results.csv\")\n",
    "\n",
    "cols = [\"accuracy_full\", \"accuracy_median\", \"nll_full\", \"nll_median\", \"ece_full\", \"ece_median\"]\n",
    "\n",
    "for col in cols:\n",
    "    c = lrt_res[col]\n",
    "    print(f\"{col}:\\n{np.median(c):.3f} ({np.min(c):.3f}, {np.max(c):.3f})\\n\")"
   ]
  }
 ],
 "metadata": {
  "kernelspec": {
   "display_name": "Python 3 (ipykernel)",
   "language": "python",
   "name": "python3"
  },
  "language_info": {
   "codemirror_mode": {
    "name": "ipython",
    "version": 3
   },
   "file_extension": ".py",
   "mimetype": "text/x-python",
   "name": "python",
   "nbconvert_exporter": "python",
   "pygments_lexer": "ipython3",
   "version": "3.11.2"
  }
 },
 "nbformat": 4,
 "nbformat_minor": 5
}
